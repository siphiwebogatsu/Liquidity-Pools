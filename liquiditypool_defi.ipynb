{
 "cells": [
  {
   "cell_type": "code",
   "execution_count": 2,
   "metadata": {},
   "outputs": [],
   "source": [
    "import json, time, random\n",
    "\n",
    "from typing import Dict, Any\n",
    "from base64 import b64decode\n",
    "\n",
    "from algosdk import account, transaction, mnemonic\n",
    "from algosdk.v2client import algod"
   ]
  },
  {
   "cell_type": "markdown",
   "metadata": {},
   "source": [
    "### Connect Algorand Testnet"
   ]
  },
  {
   "cell_type": "code",
   "execution_count": 3,
   "metadata": {},
   "outputs": [],
   "source": [
    "# setup algod client\n",
    "algod_address = \"https://testnet-api.algonode.cloud\"\n",
    "algod_token = \"\"\n",
    "\n",
    "algod_client = algod.AlgodClient(algod_token, algod_address)"
   ]
  },
  {
   "cell_type": "markdown",
   "metadata": {},
   "source": [
    "### Create accounts "
   ]
  },
  {
   "cell_type": "code",
   "execution_count": 4,
   "metadata": {},
   "outputs": [
    {
     "name": "stdout",
     "output_type": "stream",
     "text": [
      "Liquidity provider Address: WV2PSLI62SMRPMBKM4P7VNYR6RGFUEDAKRZXP4Q55W4JGEFHP64HWELM7U\n",
      "Trader Address: U54N5D62J3UNSUGW5PK43BPIHZSL55GWPLRSJ6Y6W2YB3M36IXQEUR5QKY\n",
      " Liquidity Pool Address: 4ZZXDLONSBHB4JMUESARFMXGRZNGYQA3XDSIP5JNEI2H3YVPSUY5CTUCJY\n"
     ]
    }
   ],
   "source": [
    "# liquidity provider, trader, and liquidity pool address\n",
    "liquidity_provider_private_key, liquidity_provider_address         = account.generate_account()\n",
    "trader_private_key, trader_address                                 = account.generate_account()\n",
    "pool_private_key, pool_address                                     = account.generate_account()\n",
    "\n",
    "\n",
    "print(f\"Liquidity provider Address: {liquidity_provider_address}\")\n",
    "print(f\"Trader Address: {trader_address}\")\n",
    "print(f\" Liquidity Pool Address: {pool_address}\")\n",
    "\n"
   ]
  },
  {
   "cell_type": "markdown",
   "metadata": {},
   "source": [
    "### Fund the accounts with enough Algos each. 10 Algos can do. "
   ]
  },
  {
   "cell_type": "code",
   "execution_count": null,
   "metadata": {},
   "outputs": [],
   "source": [
    "user_input = input(\n",
    "    \"Now go to Algorand testnet dispenser (https://dispenser.testnet.aws.algodev.network/) and fund stokvel accounts, then return and press enter. \"\n",
    ")"
   ]
  },
  {
   "cell_type": "markdown",
   "metadata": {},
   "source": [
    "### Let's create some UCTZAR stablecoin "
   ]
  },
  {
   "cell_type": "code",
   "execution_count": 5,
   "metadata": {},
   "outputs": [
    {
     "name": "stdout",
     "output_type": "stream",
     "text": [
      "Transaction ID for asset creation (UCTZAR Token): AWVVLVVNOYL6CDWAG64Q35UZRM46BV2BVUFDBF2PRPAD4DZNIFQA\n",
      "Created asset UCTZAR Token with Asset ID: 728821715\n"
     ]
    }
   ],
   "source": [
    "\n",
    "# a function is better to use ;) \n",
    "def create_asset(private_key, asset_name, unit_name, total_units):\n",
    "\n",
    "    address = account.address_from_private_key(private_key)\n",
    "    params = algod_client.suggested_params()\n",
    "    \n",
    "    txn = transaction.AssetConfigTxn(\n",
    "        sender=address,\n",
    "        sp=params,\n",
    "        total=total_units,                # Total number of units of this asset\n",
    "        decimals=0,                       # No decimal places\n",
    "        default_frozen=False,             # Asset is not frozen by default\n",
    "        unit_name=unit_name,              # Short name for the asset (e.g., \"ALGO\")\n",
    "        asset_name=asset_name,            # Full name for the asset\n",
    "        manager=address,                  # Account that can manage the asset \n",
    "        reserve=address,                  # Account that holds the reserve \n",
    "        freeze=address,                   # Account that can freeze the asset\n",
    "        clawback=address                  # Account that can clawback the asset \n",
    "    )\n",
    "\n",
    "    # Sign and send the transaction\n",
    "    signed_txn = txn.sign(private_key)\n",
    "    tx_id      = algod_client.send_transaction(signed_txn)\n",
    "    print(f\"Transaction ID for asset creation ({asset_name}): {tx_id}\")\n",
    "\n",
    "    # Wait for the transaction to be confirmed\n",
    "    try:\n",
    "        confirmed_txn = transaction.wait_for_confirmation(algod_client, tx_id, 4)\n",
    "        asset_id = confirmed_txn[\"asset-index\"]\n",
    "        print(f\"Created asset {asset_name} with Asset ID: {asset_id}\")\n",
    "        return asset_id\n",
    "    except Exception as e:\n",
    "        print(e)\n",
    "        return None\n",
    "    \n",
    "\n",
    "\n",
    "# UCTZAR Asset \n",
    "uctzar_asset_id = create_asset(liquidity_provider_private_key,\n",
    "                                asset_name= \"UCTZAR Token\", \n",
    "                                unit_name= \"UCTZAR\", \n",
    "                                total_units= 10000000)\n",
    "\n",
    "\n",
    "\n"
   ]
  },
  {
   "cell_type": "markdown",
   "metadata": {},
   "source": [
    "### Opt-in to the UCTZAR Asset \n",
    "\n",
    "For the trader and the liquidity pool to receive and trade UCTZAR, they need to “opt-in” to the asset. Opting in to an asset creates a balance entry in the account for this asset."
   ]
  },
  {
   "cell_type": "code",
   "execution_count": 7,
   "metadata": {},
   "outputs": [
    {
     "name": "stdout",
     "output_type": "stream",
     "text": [
      "Opt-in Transaction ID for asset 728821715: DPA6C6VS3JTWZKRJAHH5KFNAGUIBDQFX6XF4IS5X3BXKGMQHGLQA\n",
      "Opt-in confirmed for Asset ID: 728821715\n",
      "Opt-in Transaction ID for asset 728821715: WRHUWBZKAAKBCLXW63OI32Y7PSTEGTMPJ5KOERN5LWUOJA4RVNMQ\n",
      "Opt-in confirmed for Asset ID: 728821715\n"
     ]
    }
   ],
   "source": [
    "def opt_in_asset(asset_id, address, private_key):\n",
    "    params = algod_client.suggested_params()\n",
    "    txn = transaction.AssetTransferTxn(\n",
    "        sender=address,\n",
    "        sp=params,\n",
    "        receiver=address,\n",
    "        amt=0,  # Opt-in requires a 0 amount transfer to self\n",
    "        index=asset_id\n",
    "    )\n",
    "    \n",
    "    # Sign and send the transaction\n",
    "    signed_txn = txn.sign(private_key)\n",
    "    tx_id = algod_client.send_transaction(signed_txn)\n",
    "    print(f\"Opt-in Transaction ID for asset {asset_id}: {tx_id}\")\n",
    "\n",
    "    # Wait for confirmation\n",
    "    try:\n",
    "        confirmed_txn = transaction.wait_for_confirmation(algod_client, tx_id, 4)\n",
    "        print(\"Opt-in confirmed for Asset ID:\", asset_id)\n",
    "    except Exception as e:\n",
    "        print(e)\n",
    "\n",
    "\n",
    "# Trader and liquidity account opt in to UCTZAR\n",
    "opt_in_asset(asset_id = uctzar_asset_id, private_key = trader_private_key, address = trader_address)\n",
    "opt_in_asset(uctzar_asset_id, private_key =  pool_private_key, address = pool_address)"
   ]
  },
  {
   "cell_type": "markdown",
   "metadata": {},
   "source": [
    "### Distribute UCTZAR to the trader account to begin simulation "
   ]
  },
  {
   "cell_type": "code",
   "execution_count": null,
   "metadata": {},
   "outputs": [
    {
     "name": "stdout",
     "output_type": "stream",
     "text": [
      "Transfer Transaction ID: FHAK6NUS34WPLMSPRE2FOMEHJMPO24B6NWI4MKYHCNNQQXYEVRNQ\n",
      "Transferred 100000 of asset ID 728821715 to TKJZRMHGMYAZR5VYFAE7LG4D3P6J5V3AOY2IOVWY7ENAZIDEIVJ3ZODGGE\n"
     ]
    }
   ],
   "source": [
    "def transfer_asset(asset_id, sender_private_key, receiver_address, amount):\n",
    "\n",
    "    sender_address = account.address_from_private_key(sender_private_key)\n",
    "    params         = algod_client.suggested_params()\n",
    "\n",
    "    txn = transaction.AssetTransferTxn(\n",
    "        sender  =sender_address,\n",
    "        sp      =params,\n",
    "        receiver=receiver_address,\n",
    "        amt     =amount,\n",
    "        index   =asset_id\n",
    "    )\n",
    "\n",
    "    # Sign and send the transaction\n",
    "    signed_txn = txn.sign(sender_private_key)\n",
    "    tx_id      = algod_client.send_transaction(signed_txn)\n",
    "    print(f\"Transfer Transaction ID: {tx_id}\")\n",
    "\n",
    "    # Wait for confirmation\n",
    "    try:\n",
    "        confirmed_txn = transaction.wait_for_confirmation(algod_client, tx_id, 4)\n",
    "        print(f\"Transferred {amount} of asset ID {asset_id} to {receiver_address}\")\n",
    "    except Exception as e:\n",
    "        print(e)\n",
    "\n",
    "# Transfer UCTZAR from Liquidity Provider to Trader\n",
    "transfer_asset(asset_id          = uctzar_asset_id,\n",
    "              sender_private_key = liquidity_provider_private_key,\n",
    "               receiver_address  = trader_address,\n",
    "                amount           =  100000)  # 10000 UCTZAR\n",
    "\n",
    "\n",
    "\n"
   ]
  },
  {
   "cell_type": "markdown",
   "metadata": {},
   "source": [
    "### Depositing Liquidity and Facilitating Trades \n",
    "\n",
    "In a decentralized liquidity pool, we have two primary functions:\n",
    "1. Deposit Liquidity: The liquidity provider deposits a pair of tokens (ALGO and UCTZAR) into the pool to provide liquidity. They subsequently recieve their staking. I assumed that the staking will be 10% of the fees for each trade. \n",
    "2. Trade Execution: A trader can swap one token for the other (e.g., trading ALGO for UCTZAR or vice versa).\n"
   ]
  },
  {
   "cell_type": "code",
   "execution_count": null,
   "metadata": {},
   "outputs": [],
   "source": [
    "# Deposit liquidity \n",
    "def deposit_liquidity(algo_amount, uctzar_amount, lp_shareholder, provider_private_key):\n",
    "    \"\"\"\n",
    "    Deposit ALGO and UCTZAR into the liquidity pool.\n",
    "    \n",
    "    \n",
    "    :param algo_amount: Amount of ALGO to deposit\n",
    "    :param uctzar_amount: Amount of UCTZAR to deposit\n",
    "    :param lp_shareholder: Address of liquidity provider\n",
    "    :param provider_private_key: Private key of the liquidity provider\n",
    "    :return: LP shares issued\n",
    "    \"\"\"\n",
    "    # Ensure deposits are in the correct ratio: 1 UCTZAR = 0.5 ALGO\n",
    "    if uctzar_amount != 2 * algo_amount:\n",
    "        print(\"Deposit amounts do not match the required 1 UCTZAR = 0.5 ALGO ratio.\")\n",
    "        \n",
    "    \n",
    "    # Retrieve suggested transaction parameters\n",
    "    params = algod_client.suggested_params()\n",
    "    \n",
    "    # Liquidity provider deposits algos\n",
    "    algo_txn = transaction.PaymentTxn(\n",
    "        sender   =lp_shareholder,\n",
    "        receiver = pool_address,  # address of the liquidity pool \n",
    "        amt      = algo_amount,\n",
    "        sp       =params\n",
    "    )\n",
    "    \n",
    "    # UCTZAR deposit (asset transfer)\n",
    "    uctzar_txn = transaction.AssetTransferTxn(\n",
    "        sender   = lp_shareholder,\n",
    "        receiver = pool_address,\n",
    "        amt      = uctzar_amount,\n",
    "        index    = uctzar_asset_id,  # Asset ID of UCTZAR\n",
    "        sp       = params,\n",
    "    )\n",
    "    \n",
    "    # sign and group the transactions \n",
    "    transaction.assign_group_id([algo_txn,uctzar_txn])\n",
    "    signed_algo_txn   = algo_txn.sign(provider_private_key)\n",
    "    signed_uctzar_txn = uctzar_txn.sign(provider_private_key)\n",
    "\n",
    "    \n",
    "\n",
    "    \n",
    "    # Send transactions\n",
    "    tx_id = algod_client.send_transactions([signed_algo_txn, signed_uctzar_txn])\n",
    "    print(f\"Liquidity deposit transaction ID: {tx_id}\")\n",
    "    \n",
    "    # Wait for confirmation\n",
    "    confirmed_txn = transaction.wait_for_confirmation(algod_client, tx_id, 4)\n",
    "    \n",
    "    # Issue LP Shares\n",
    "    lp_shares = int((algo_amount)* 0.001)\n",
    "    print(f\"You are entitled to 10% of every trading fee! You can claim them once you wish to surrend these shares.\")\n",
    "\n",
    "\n",
    "# Executing the trade function \n",
    "def execute_trade(trade, trader_address, trader_private_key,user_said ):\n",
    "    \"\"\"\n",
    "    Perform a trade in the liquidity pool.\n",
    "\n",
    "    \n",
    "    :param trade: Amount of ALGO/UCTZAR the trader provides\n",
    "    :param trader_address: Address of the trader\n",
    "    :param trader_private_key: Private key of the trader\n",
    "    :param user_said: What do you want to trade for ? UCTZAR or ALGO\n",
    "    :return: UCTZAR output for the given ALGO input\n",
    "    \"\"\"\n",
    "\n",
    "    # Calculate trading fee (e.g., 0.5% fee)\n",
    "    fee             = int(trade * 0.005)\n",
    "    lp_fee        = fee*0.1\n",
    "    trade_after_fee = trade - fee\n",
    "\n",
    "\n",
    "\n",
    "\n",
    "\n",
    "    # Suggested transaction parameters\n",
    "    params = algod_client.suggested_params()\n",
    "\n",
    "    if user_said == \"UCTZAR\":\n",
    "\n",
    "        uctzar_out = trade*2\n",
    "\n",
    "        # ALGO transfer from trader to pool\n",
    "        algo_txn = transaction.PaymentTxn(\n",
    "        sender  =trader_address,\n",
    "        receiver= pool_address,\n",
    "        amt= trade_after_fee,\n",
    "        sp=params\n",
    "        )\n",
    "    \n",
    "        # UCTZAR transfer from pool to trader\n",
    "        uctzar_txn = transaction.AssetTransferTxn(\n",
    "            sender  = pool_address,\n",
    "            sp      =params,\n",
    "            receiver=trader_address,\n",
    "            amt     =uctzar_out,\n",
    "            index   =uctzar_asset_id\n",
    "        )\n",
    "\n",
    "        # sign and group the transactions \n",
    "        transaction.assign_group_id([algo_txn, uctzar_txn])\n",
    "        signed_algo_txn   = algo_txn.sign(trader_private_key)\n",
    "        signed_uctzar_txn = uctzar_txn.sign(pool_private_key)\n",
    "\n",
    "    \n",
    "        # Send transactions\n",
    "        tx_id = algod_client.send_transactions([signed_algo_txn, signed_uctzar_txn])\n",
    "        print(f\"Trade transaction ID: {tx_id}\")\n",
    "\n",
    "        # Wait for confirmation\n",
    "        confirmed_txn = transaction.wait_for_confirmation(algod_client, tx_id, 4)\n",
    "        print(f\"Trade executed: {trade} for {uctzar_out}\")\n",
    "\n",
    "        return {\"liquidity provider share received\": lp_fee}\n",
    "        \n",
    "    else:\n",
    "\n",
    "        algo_out = int(trade/2)\n",
    "\n",
    "        # Algos transfer \n",
    "        algo_txn = transaction.PaymentTxn(\n",
    "        sender  = pool_address,\n",
    "        receiver= trader_address,\n",
    "        amt    = algo_out,\n",
    "        sp     =params\n",
    "        )\n",
    "    \n",
    "        # UCTZAR transfer\n",
    "        uctzar_txn = transaction.AssetTransferTxn(\n",
    "            sender  = trader_address,\n",
    "            sp      =params,\n",
    "            receiver=pool_address ,\n",
    "            amt     = trade_after_fee,\n",
    "            index   =uctzar_asset_id\n",
    "        )\n",
    "\n",
    "        # sign and group the transactions \n",
    "        transaction.assign_group_id([algo_txn, uctzar_txn])\n",
    "        signed_algo_txn   = algo_txn.sign(pool_private_key)\n",
    "        signed_uctzar_txn = uctzar_txn.sign(trader_private_key)\n",
    "\n",
    "        \n",
    "\n",
    "        # Send transactions\n",
    "        tx_id = algod_client.send_transactions([signed_algo_txn, signed_uctzar_txn])\n",
    "        print(f\"Trade transaction ID: {tx_id}\")\n",
    "\n",
    "        # Wait for confirmation\n",
    "        confirmed_txn = transaction.wait_for_confirmation(algod_client, tx_id, 4)\n",
    "        print(f\"Trade executed: {trade} for {algo_out}\")\n",
    "\n",
    "        return {\"liquidity provider share received\": lp_fee}\n",
    "    \n",
    "    \n",
    "\n"
   ]
  },
  {
   "cell_type": "markdown",
   "metadata": {},
   "source": [
    "#### Here's one iteration of the liquidity pooling on a DEX"
   ]
  },
  {
   "cell_type": "code",
   "execution_count": 37,
   "metadata": {},
   "outputs": [
    {
     "name": "stdout",
     "output_type": "stream",
     "text": [
      "Liquidity deposit transaction ID: 5MD52NXDHKMOLMVDBUZ5V2L6LYGI6LWTDLPQLH6VETBI5BG2SXFQ\n",
      "You are entitled to 10% of every trading fee! You can claim them once you wish to surrend these shares.\n",
      "Trade transaction ID: EGVDCAQP4C7ZSGBETVAM3T65CQPLHF74RB5YOKTCVXSZ6QEZG3VQ\n",
      "Trade executed: 10000 for 5000\n"
     ]
    },
    {
     "data": {
      "text/plain": [
       "{'liquidity provider share received': 5.0}"
      ]
     },
     "execution_count": 37,
     "metadata": {},
     "output_type": "execute_result"
    }
   ],
   "source": [
    "deposit_liquidity(algo_amount   = 100000, \n",
    "                  uctzar_amount = 200000,\n",
    "                  lp_shareholder= liquidity_provider_address, \n",
    "                  provider_private_key= liquidity_provider_private_key\n",
    "                  )\n",
    "\n",
    "execute_trade(trade = 10000, \n",
    "              trader_address= trader_address,\n",
    "              trader_private_key= trader_private_key,\n",
    "              user_said= \"ALGO\")"
   ]
  },
  {
   "cell_type": "markdown",
   "metadata": {},
   "source": [
    "##### just need to figure out how to surrender the liquidity share token recieved. "
   ]
  }
 ],
 "metadata": {
  "kernelspec": {
   "display_name": "Python 3",
   "language": "python",
   "name": "python3"
  },
  "language_info": {
   "codemirror_mode": {
    "name": "ipython",
    "version": 3
   },
   "file_extension": ".py",
   "mimetype": "text/x-python",
   "name": "python",
   "nbconvert_exporter": "python",
   "pygments_lexer": "ipython3",
   "version": "3.11.1"
  }
 },
 "nbformat": 4,
 "nbformat_minor": 2
}
